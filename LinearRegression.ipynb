{
 "cells": [
  {
   "cell_type": "code",
   "execution_count": 1,
   "id": "1475490c-6f4b-4b3f-80b7-0a0cb7d79f73",
   "metadata": {},
   "outputs": [],
   "source": [
    "import pandas as pd \n",
    "import numpy as np \n",
    "import matplotlib.pyplot as plt \n",
    "import matplotlib.axes as ax \n",
    "from matplotlib.animation import FuncAnimation"
   ]
  },
  {
   "cell_type": "code",
   "execution_count": 2,
   "id": "ffe1b79d-f6ea-47c4-9f4f-2184e6ea0ef4",
   "metadata": {},
   "outputs": [
    {
     "data": {
      "text/html": [
       "<div>\n",
       "<style scoped>\n",
       "    .dataframe tbody tr th:only-of-type {\n",
       "        vertical-align: middle;\n",
       "    }\n",
       "\n",
       "    .dataframe tbody tr th {\n",
       "        vertical-align: top;\n",
       "    }\n",
       "\n",
       "    .dataframe thead th {\n",
       "        text-align: right;\n",
       "    }\n",
       "</style>\n",
       "<table border=\"1\" class=\"dataframe\">\n",
       "  <thead>\n",
       "    <tr style=\"text-align: right;\">\n",
       "      <th></th>\n",
       "      <th>x</th>\n",
       "      <th>y</th>\n",
       "    </tr>\n",
       "  </thead>\n",
       "  <tbody>\n",
       "    <tr>\n",
       "      <th>0</th>\n",
       "      <td>24.0</td>\n",
       "      <td>21.549452</td>\n",
       "    </tr>\n",
       "    <tr>\n",
       "      <th>1</th>\n",
       "      <td>50.0</td>\n",
       "      <td>47.464463</td>\n",
       "    </tr>\n",
       "    <tr>\n",
       "      <th>2</th>\n",
       "      <td>15.0</td>\n",
       "      <td>17.218656</td>\n",
       "    </tr>\n",
       "    <tr>\n",
       "      <th>3</th>\n",
       "      <td>38.0</td>\n",
       "      <td>36.586398</td>\n",
       "    </tr>\n",
       "    <tr>\n",
       "      <th>4</th>\n",
       "      <td>87.0</td>\n",
       "      <td>87.288984</td>\n",
       "    </tr>\n",
       "    <tr>\n",
       "      <th>...</th>\n",
       "      <td>...</td>\n",
       "      <td>...</td>\n",
       "    </tr>\n",
       "    <tr>\n",
       "      <th>695</th>\n",
       "      <td>58.0</td>\n",
       "      <td>58.595006</td>\n",
       "    </tr>\n",
       "    <tr>\n",
       "      <th>696</th>\n",
       "      <td>93.0</td>\n",
       "      <td>94.625094</td>\n",
       "    </tr>\n",
       "    <tr>\n",
       "      <th>697</th>\n",
       "      <td>82.0</td>\n",
       "      <td>88.603770</td>\n",
       "    </tr>\n",
       "    <tr>\n",
       "      <th>698</th>\n",
       "      <td>66.0</td>\n",
       "      <td>63.648685</td>\n",
       "    </tr>\n",
       "    <tr>\n",
       "      <th>699</th>\n",
       "      <td>97.0</td>\n",
       "      <td>94.975266</td>\n",
       "    </tr>\n",
       "  </tbody>\n",
       "</table>\n",
       "<p>700 rows × 2 columns</p>\n",
       "</div>"
      ],
      "text/plain": [
       "        x          y\n",
       "0    24.0  21.549452\n",
       "1    50.0  47.464463\n",
       "2    15.0  17.218656\n",
       "3    38.0  36.586398\n",
       "4    87.0  87.288984\n",
       "..    ...        ...\n",
       "695  58.0  58.595006\n",
       "696  93.0  94.625094\n",
       "697  82.0  88.603770\n",
       "698  66.0  63.648685\n",
       "699  97.0  94.975266\n",
       "\n",
       "[700 rows x 2 columns]"
      ]
     },
     "execution_count": 2,
     "metadata": {},
     "output_type": "execute_result"
    }
   ],
   "source": [
    "url = 'https://raw.githubusercontent.com/AshishJangra27/Machine-Learning-with-Python-GFG/main/Linear%20Regression/data_for_lr.csv'\n",
    "df = pd.read_csv(url) \n",
    "df"
   ]
  },
  {
   "cell_type": "code",
   "execution_count": 3,
   "id": "157ff395-d91e-4f8c-b03d-a7fa0c50872f",
   "metadata": {},
   "outputs": [
    {
     "data": {
      "text/plain": [
       "(700, 2)"
      ]
     },
     "execution_count": 3,
     "metadata": {},
     "output_type": "execute_result"
    }
   ],
   "source": [
    "df.shape"
   ]
  },
  {
   "cell_type": "code",
   "execution_count": 4,
   "id": "b424cf6d-468c-4e11-84d7-0ba4fe03f0fc",
   "metadata": {},
   "outputs": [],
   "source": [
    "\n",
    "# Drop the missing values \n",
    "df = df.dropna() \n",
    "\n",
    "# training dataset and labels \n",
    "train_input = np.array(df.x[0:500]).reshape(500, 1) \n",
    "train_output = np.array(df.y[0:500]).reshape(500, 1) \n",
    "\n",
    "# valid dataset and labels \n",
    "test_input = np.array(df.x[500:700]).reshape(199, 1) \n",
    "test_output = np.array(df.y[500:700]).reshape(199, 1) \n"
   ]
  },
  {
   "cell_type": "code",
   "execution_count": 10,
   "id": "bd30e9ce-ef0b-47f2-b7a3-58859452fd00",
   "metadata": {},
   "outputs": [],
   "source": [
    "class LinearRegression: \n",
    "\tdef __init__(self): \n",
    "\t\tself.parameters = {} \n",
    "\n",
    "\tdef forward_propagation(self, train_input): \n",
    "\t\tm = self.parameters['m'] \n",
    "\t\tc = self.parameters['c'] \n",
    "\t\tpredictions = np.multiply(m, train_input) + c \n",
    "\t\treturn predictions \n",
    "\n",
    "\tdef cost_function(self, predictions, train_output): \n",
    "\t\tcost = np.mean((train_output - predictions) ** 2) \n",
    "\t\treturn cost \n",
    "\n",
    "\tdef backward_propagation(self, train_input, train_output, predictions): \n",
    "\t\tderivatives = {} \n",
    "\t\tdf = (predictions-train_output) \n",
    "\t\t# dm= 2/n * mean of (predictions-actual) * input \n",
    "\t\tdm = 2 * np.mean(np.multiply(train_input, df)) \n",
    "\t\t# dc = 2/n * mean of (predictions-actual) \n",
    "\t\tdc = 2 * np.mean(df) \n",
    "\t\tderivatives['dm'] = dm \n",
    "\t\tderivatives['dc'] = dc \n",
    "\t\treturn derivatives \n",
    "\n",
    "\tdef update_parameters(self, derivatives, learning_rate): \n",
    "\t\tself.parameters['m'] = self.parameters['m'] - learning_rate * derivatives['dm'] \n",
    "\t\tself.parameters['c'] = self.parameters['c'] - learning_rate * derivatives['dc'] \n",
    "\n",
    "\tdef train(self, train_input, train_output, learning_rate, iters): \n",
    "\t\t# Initialize random parameters \n",
    "\t\tself.parameters['m'] = np.random.uniform(0, 1) * -1\n",
    "\t\tself.parameters['c'] = np.random.uniform(0, 1) * -1\n",
    "\n",
    "\t\t# Initialize loss \n",
    "\t\tself.loss = [] \n",
    "\n",
    "\t\t# Initialize figure and axis for animation \n",
    "\t\tfig, ax = plt.subplots() \n",
    "\t\tx_vals = np.linspace(min(train_input), max(train_input), 100) \n",
    "\t\tline, = ax.plot(x_vals, self.parameters['m'] * x_vals +\n",
    "\t\t\t\t\t\tself.parameters['c'], color='red', label='Regression Line') \n",
    "\t\tax.scatter(train_input, train_output, marker='o', \n",
    "\t\t\t\tcolor='green', label='Training Data') \n",
    "\n",
    "\t\t# Set y-axis limits to exclude negative values \n",
    "\t\tax.set_ylim(0, max(train_output) + 1) \n",
    "\n",
    "\t\tdef update(frame): \n",
    "\t\t\t# Forward propagation \n",
    "\t\t\tpredictions = self.forward_propagation(train_input) \n",
    "\n",
    "\t\t\t# Cost function \n",
    "\t\t\tcost = self.cost_function(predictions, train_output) \n",
    "\n",
    "\t\t\t# Back propagation \n",
    "\t\t\tderivatives = self.backward_propagation( \n",
    "\t\t\t\ttrain_input, train_output, predictions) \n",
    "\n",
    "\t\t\t# Update parameters \n",
    "\t\t\tself.update_parameters(derivatives, learning_rate) \n",
    "\n",
    "\t\t\t# Update the regression line \n",
    "\t\t\tline.set_ydata(self.parameters['m'] \n",
    "\t\t\t\t\t\t* x_vals + self.parameters['c']) \n",
    "\n",
    "\t\t\t# Append loss and print \n",
    "\t\t\tself.loss.append(cost) \n",
    "\t\t\tprint(\"Iteration = {}, Loss = {}\".format(frame + 1, cost)) \n",
    "\n",
    "\t\t\treturn line, \n",
    "\t\t# Create animation \n",
    "\t\tani = FuncAnimation(fig, update, frames=iters, interval=200, blit=False, repeat = False) \n",
    "\n",
    "\t\t# Save the animation as a video file (e.g., MP4) \n",
    "\t\tani.save('linear_regression_A.gif', writer='ffmpeg') \n",
    "\n",
    "\t\tplt.xlabel('Input') \n",
    "\t\tplt.ylabel('Output') \n",
    "\t\tplt.title('Linear Regression') \n",
    "\t\tplt.legend() \n",
    "\t\tplt.show() \n",
    "\n",
    "\t\treturn self.parameters, self.loss \n"
   ]
  },
  {
   "cell_type": "code",
   "execution_count": 11,
   "id": "c3ccd231-7b4a-437e-865b-ea4df9cea9a3",
   "metadata": {},
   "outputs": [
    {
     "name": "stderr",
     "output_type": "stream",
     "text": [
      "MovieWriter ffmpeg unavailable; using Pillow instead.\n"
     ]
    },
    {
     "name": "stdout",
     "output_type": "stream",
     "text": [
      "Iteration = 1, Loss = 9898.529325713587\n",
      "Iteration = 1, Loss = 1199.7791948178312\n",
      "Iteration = 2, Loss = 151.4851364085268\n",
      "Iteration = 3, Loss = 25.154292078008716\n",
      "Iteration = 4, Loss = 9.930048460201087\n",
      "Iteration = 5, Loss = 8.09535936430195\n",
      "Iteration = 6, Loss = 7.874257302525159\n",
      "Iteration = 7, Loss = 7.847610038693335\n",
      "Iteration = 8, Loss = 7.844396694407593\n",
      "Iteration = 9, Loss = 7.8440073926580665\n",
      "Iteration = 10, Loss = 7.843958418974671\n",
      "Iteration = 11, Loss = 7.843950458734314\n",
      "Iteration = 12, Loss = 7.843947441267553\n",
      "Iteration = 13, Loss = 7.843945019666153\n",
      "Iteration = 14, Loss = 7.843942670080342\n",
      "Iteration = 15, Loss = 7.843940329380501\n",
      "Iteration = 16, Loss = 7.843937989958805\n",
      "Iteration = 17, Loss = 7.84393565089841\n",
      "Iteration = 18, Loss = 7.8439333120888\n",
      "Iteration = 19, Loss = 7.843930973516639\n",
      "Iteration = 20, Loss = 7.843928635180295\n"
     ]
    },
    {
     "data": {
      "image/png": "[encoded data removed]",
      "text/plain": [
       "<Figure size 640x480 with 1 Axes>"
      ]
     },
     "metadata": {},
     "output_type": "display_data"
    }
   ],
   "source": [
    "#Example usage \n",
    "linear_reg = LinearRegression() \n",
    "parameters, loss = linear_reg.train(train_input, train_output, 0.0001, 20)"
   ]
  },
  {
   "cell_type": "code",
   "execution_count": null,
   "id": "c64564d3-d1d2-41d5-af0d-37370fd3ab5b",
   "metadata": {},
   "outputs": [],
   "source": []
  }
 ],
 "metadata": {
  "kernelspec": {
   "display_name": "Python 3 (ipykernel)",
   "language": "python",
   "name": "python3"
  },
  "language_info": {
   "codemirror_mode": {
    "name": "ipython",
    "version": 3
   },
   "file_extension": ".py",
   "mimetype": "text/x-python",
   "name": "python",
   "nbconvert_exporter": "python",
   "pygments_lexer": "ipython3",
   "version": "3.10.11"
  }
 },
 "nbformat": 4,
 "nbformat_minor": 5
}
